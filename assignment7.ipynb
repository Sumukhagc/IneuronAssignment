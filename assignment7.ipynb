{
 "cells": [
  {
   "cell_type": "markdown",
   "id": "407dbb69",
   "metadata": {},
   "source": [
    "### Assignment 7"
   ]
  },
  {
   "cell_type": "markdown",
   "id": "ace8f096",
   "metadata": {},
   "source": [
    "#### Q.1. Create two int type variables, apply addition, subtraction, division and multiplicationsand store the results in variables. Then print the data in the following format by calling thevariables: \n"
   ]
  },
  {
   "cell_type": "code",
   "execution_count": 37,
   "id": "72bcd1aa",
   "metadata": {},
   "outputs": [],
   "source": [
    "def add(a,b):\n",
    "    return a+b\n",
    "def sub(a,b):\n",
    "    return a-b\n",
    "def mul(a,b):\n",
    "    return a*b\n",
    "def div(a,b):\n",
    "    if(b!=0):\n",
    "        return a/b\n",
    "    else:\n",
    "        return \"Divide by zero not possible\"\n",
    "    \n",
    "def print_results(a,b,addition,subtraction,multiplication,division):\n",
    "    print('First variable is {} and second variable is {}'.format(a,b))\n",
    "    print('Addition of {} and {} is {}'.format(a,b,addition))\n",
    "    print('Subtration of {} and {} is {}'.format(a,b,subtraction))\n",
    "    print('Multiplication of {} and {} is {}'.format(a,b,multiplication))\n",
    "    print('Division of {} and {} is {}'.format(a,b,division))\n",
    "\n",
    "def cal(a,b):\n",
    "    addition=add(a,b)\n",
    "    subtraction=sub(a,b)\n",
    "    multiplication=mul(a,b)\n",
    "    division=div(a,b)\n",
    "    print_results(a,b,addition,subtraction,multiplication,division)"
   ]
  },
  {
   "cell_type": "code",
   "execution_count": 38,
   "id": "7045a936",
   "metadata": {},
   "outputs": [
    {
     "name": "stdout",
     "output_type": "stream",
     "text": [
      "First variable is 2 and second variable is 5\n",
      "Addition of 2 and 5 is 7\n",
      "Subtration of 2 and 5 is -3\n",
      "Multiplication of 2 and 5 is 10\n",
      "Division of 2 and 5 is 0.4\n"
     ]
    }
   ],
   "source": [
    "cal(2,5)"
   ]
  },
  {
   "cell_type": "markdown",
   "id": "93f580e7",
   "metadata": {},
   "source": [
    "#### Q.2. What is the difference between the following operators:\n",
    "(i) ‘/’ & ‘//’\n",
    "(ii) ‘**’ & ‘^’"
   ]
  },
  {
   "cell_type": "code",
   "execution_count": 39,
   "id": "9a5affaa",
   "metadata": {},
   "outputs": [
    {
     "name": "stdout",
     "output_type": "stream",
     "text": [
      "'/' is used to perform normal division\n",
      "'//' is used to perform floor division that is the quotient we get after division is rounded off to the nearest value\n"
     ]
    }
   ],
   "source": [
    "#i.\n",
    "print(\"'/' is used to perform normal division\")\n",
    "print(\"'//' is used to perform floor division that is the quotient we get after division is rounded off to the nearest value\")"
   ]
  },
  {
   "cell_type": "code",
   "execution_count": 40,
   "id": "b4b3e620",
   "metadata": {},
   "outputs": [
    {
     "name": "stdout",
     "output_type": "stream",
     "text": [
      "'**' is an exponential operator for example 5**3 will be 5*5*5=125\n",
      "^ is an XOR operator example 6 ^ 3  yields 5\n"
     ]
    }
   ],
   "source": [
    "#ii.\n",
    "print(\"'**' is an exponential operator for example 5**3 will be 5*5*5=125\")\n",
    "print('^ is an XOR operator example 6 ^ 3  yields 5')"
   ]
  },
  {
   "cell_type": "markdown",
   "id": "3dcf88ea",
   "metadata": {},
   "source": [
    "#### Q.3. List the logical operators."
   ]
  },
  {
   "cell_type": "code",
   "execution_count": 41,
   "id": "3de6d39d",
   "metadata": {},
   "outputs": [
    {
     "name": "stdout",
     "output_type": "stream",
     "text": [
      "AND OR NOT are the logical operators in python\n"
     ]
    }
   ],
   "source": [
    "print('AND OR NOT are the logical operators in python')"
   ]
  },
  {
   "cell_type": "markdown",
   "id": "98d464be",
   "metadata": {},
   "source": [
    "#### Q.4. Explain right shift operator and left shift operator with examples."
   ]
  },
  {
   "cell_type": "code",
   "execution_count": 42,
   "id": "fe35b06b",
   "metadata": {},
   "outputs": [
    {
     "name": "stdout",
     "output_type": "stream",
     "text": [
      "It is the binary representation of a number with shifting n bits to right\n",
      "It is the binary representation of a number with shifting n bits to left\n",
      "Right Shift of 8 by 2 bits\n",
      "0b1000\n",
      "After shifting 2 bits to right it will be 0010 so value will be 2\n",
      "2\n",
      "********************************************************************\n",
      "Left Shift of 8 by 2 bits\n",
      "0b1000\n",
      "After shifting 2 bits to left it will be 100000 so value will be 32\n",
      "32\n"
     ]
    }
   ],
   "source": [
    "#Right Shift\n",
    "print('It is the binary representation of a number with shifting n bits to right')\n",
    "#Left Shift\n",
    "print('It is the binary representation of a number with shifting n bits to left')\n",
    "\n",
    "#Example of right shift\n",
    "print('Right Shift of 8 by 2 bits')\n",
    "print(bin(8))\n",
    "print('After shifting 2 bits to right it will be 0010 so value will be 2')\n",
    "print(8>>2)\n",
    "print('********************************************************************')\n",
    "\n",
    "#Example of left shift\n",
    "print('Left Shift of 8 by 2 bits')\n",
    "print(bin(8))\n",
    "print('After shifting 2 bits to left it will be 100000 so value will be 32')\n",
    "print(8<<2)"
   ]
  },
  {
   "cell_type": "markdown",
   "id": "80fb6e68",
   "metadata": {},
   "source": [
    "#### Q.5. Create a list containing int type data of length 15. Then write a code to check if 10 is present in the list or not."
   ]
  },
  {
   "cell_type": "code",
   "execution_count": 43,
   "id": "0169db06",
   "metadata": {},
   "outputs": [
    {
     "name": "stdout",
     "output_type": "stream",
     "text": [
      "Value 10 is present in list\n"
     ]
    }
   ],
   "source": [
    "values=[x+1 for x in range(15)]\n",
    "\n",
    "if 10 in values:\n",
    "    print('Value 10 is present in list')\n",
    "else:\n",
    "    print('Value 10 is not present in list')"
   ]
  },
  {
   "cell_type": "markdown",
   "id": "0261ae0a",
   "metadata": {},
   "source": [
    "### End of the assignment"
   ]
  },
  {
   "cell_type": "markdown",
   "id": "12c953de",
   "metadata": {},
   "source": [
    "### Thankyou"
   ]
  },
  {
   "cell_type": "code",
   "execution_count": null,
   "id": "977b90df",
   "metadata": {},
   "outputs": [],
   "source": []
  }
 ],
 "metadata": {
  "kernelspec": {
   "display_name": "Python 3 (ipykernel)",
   "language": "python",
   "name": "python3"
  },
  "language_info": {
   "codemirror_mode": {
    "name": "ipython",
    "version": 3
   },
   "file_extension": ".py",
   "mimetype": "text/x-python",
   "name": "python",
   "nbconvert_exporter": "python",
   "pygments_lexer": "ipython3",
   "version": "3.10.9"
  }
 },
 "nbformat": 4,
 "nbformat_minor": 5
}
